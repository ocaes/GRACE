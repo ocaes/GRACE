{
  "nbformat": 4,
  "nbformat_minor": 0,
  "metadata": {
    "colab": {
      "provenance": [],
      "include_colab_link": true
    },
    "kernelspec": {
      "name": "python3",
      "display_name": "Python 3"
    },
    "language_info": {
      "name": "python"
    }
  },
  "cells": [
    {
      "cell_type": "markdown",
      "metadata": {
        "id": "view-in-github",
        "colab_type": "text"
      },
      "source": [
        "<a href=\"https://colab.research.google.com/github/ocaes/GRACE/blob/main/Main.ipynb\" target=\"_parent\"><img src=\"https://colab.research.google.com/assets/colab-badge.svg\" alt=\"Open In Colab\"/></a>"
      ]
    },
    {
      "cell_type": "code",
      "execution_count": 4,
      "metadata": {
        "id": "tMDBBXm5KQGR",
        "outputId": "4d509362-be11-4b89-eb5c-3812af4f1d4a",
        "colab": {
          "base_uri": "https://localhost:8080/",
          "height": 17
        }
      },
      "outputs": [
        {
          "output_type": "display_data",
          "data": {
            "text/plain": [
              "<IPython.core.display.HTML object>"
            ],
            "text/html": [
              "\n",
              "            <style>\n",
              "                .geemap-dark {\n",
              "                    --jp-widgets-color: white;\n",
              "                    --jp-widgets-label-color: white;\n",
              "                    --jp-ui-font-color1: white;\n",
              "                    --jp-layout-color2: #454545;\n",
              "                    background-color: #383838;\n",
              "                }\n",
              "\n",
              "                .geemap-dark .jupyter-button {\n",
              "                    --jp-layout-color3: #383838;\n",
              "                }\n",
              "\n",
              "                .geemap-colab {\n",
              "                    background-color: var(--colab-primary-surface-color, white);\n",
              "                }\n",
              "\n",
              "                .geemap-colab .jupyter-button {\n",
              "                    --jp-layout-color3: var(--colab-primary-surface-color, white);\n",
              "                }\n",
              "            </style>\n",
              "            "
            ]
          },
          "metadata": {}
        }
      ],
      "source": [
        "import ee\n",
        "import geemap"
      ]
    },
    {
      "cell_type": "code",
      "source": [
        "ee.Authenticate()\n",
        "ee.Initialize(project=\"nifty-vault-332121\", opt_url='https://earthengine-highvolume.googleapis.com')"
      ],
      "metadata": {
        "colab": {
          "base_uri": "https://localhost:8080/",
          "height": 17
        },
        "id": "OzGNNi7RKZWn",
        "outputId": "d159ae1c-3935-4861-bdfc-3ca69ba03b87"
      },
      "execution_count": 5,
      "outputs": [
        {
          "output_type": "display_data",
          "data": {
            "text/plain": [
              "<IPython.core.display.HTML object>"
            ],
            "text/html": [
              "\n",
              "            <style>\n",
              "                .geemap-dark {\n",
              "                    --jp-widgets-color: white;\n",
              "                    --jp-widgets-label-color: white;\n",
              "                    --jp-ui-font-color1: white;\n",
              "                    --jp-layout-color2: #454545;\n",
              "                    background-color: #383838;\n",
              "                }\n",
              "\n",
              "                .geemap-dark .jupyter-button {\n",
              "                    --jp-layout-color3: #383838;\n",
              "                }\n",
              "\n",
              "                .geemap-colab {\n",
              "                    background-color: var(--colab-primary-surface-color, white);\n",
              "                }\n",
              "\n",
              "                .geemap-colab .jupyter-button {\n",
              "                    --jp-layout-color3: var(--colab-primary-surface-color, white);\n",
              "                }\n",
              "            </style>\n",
              "            "
            ]
          },
          "metadata": {}
        }
      ]
    },
    {
      "cell_type": "code",
      "source": [
        "country_name ='Iran'                           # Country's name            # str\n",
        "time_start = \"2015-01-01\"                            # Start data YYYY-MM-DD     # str\n",
        "time_end =  \"2015-12-30\"                              # End data YYYY-MM-DD       # str"
      ],
      "metadata": {
        "id": "hlXiL7cjKztU",
        "colab": {
          "base_uri": "https://localhost:8080/",
          "height": 17
        },
        "outputId": "7f0382ab-1689-4bb8-8e12-e924a26f6032"
      },
      "execution_count": 6,
      "outputs": [
        {
          "output_type": "display_data",
          "data": {
            "text/plain": [
              "<IPython.core.display.HTML object>"
            ],
            "text/html": [
              "\n",
              "            <style>\n",
              "                .geemap-dark {\n",
              "                    --jp-widgets-color: white;\n",
              "                    --jp-widgets-label-color: white;\n",
              "                    --jp-ui-font-color1: white;\n",
              "                    --jp-layout-color2: #454545;\n",
              "                    background-color: #383838;\n",
              "                }\n",
              "\n",
              "                .geemap-dark .jupyter-button {\n",
              "                    --jp-layout-color3: #383838;\n",
              "                }\n",
              "\n",
              "                .geemap-colab {\n",
              "                    background-color: var(--colab-primary-surface-color, white);\n",
              "                }\n",
              "\n",
              "                .geemap-colab .jupyter-button {\n",
              "                    --jp-layout-color3: var(--colab-primary-surface-color, white);\n",
              "                }\n",
              "            </style>\n",
              "            "
            ]
          },
          "metadata": {}
        }
      ]
    },
    {
      "cell_type": "code",
      "source": [
        "def convert_to_monthly_sum(collection, start, end):\n",
        "    start_date = ee.Date(start)\n",
        "    end_date = ee.Date(end)\n",
        "\n",
        "    adjusted_end = ee.Algorithms.If(\n",
        "        ee.Number(end_date.get('day')).eq(1),\n",
        "        end_date.advance(-1, 'day'),\n",
        "        end_date\n",
        "    )\n",
        "    end_date = ee.Date(adjusted_end)\n",
        "\n",
        "    months = ee.List.sequence(0, end_date.difference(start_date, 'month'))\n",
        "\n",
        "    def map_month(m):\n",
        "        m = ee.Number(m)\n",
        "        start_m = start_date.advance(m, 'month')\n",
        "        end_m = start_m.advance(1, 'month')\n",
        "\n",
        "        filtered = collection.filterDate(start_m, end_m)\n",
        "        monthly_image = filtered.sum() \\\n",
        "            .set('system:time_start', start_m.millis())\n",
        "\n",
        "        first_image = ee.Image(filtered.first())\n",
        "        monthly_image = monthly_image.copyProperties(first_image, first_image.propertyNames())\n",
        "\n",
        "        return monthly_image\n",
        "\n",
        "    return ee.ImageCollection.fromImages(months.map(map_month))\n",
        "\n",
        "\n",
        "def convert_to_monthly_average(collection, start, end):\n",
        "    start_date = ee.Date(start)\n",
        "    end_date = ee.Date(end)\n",
        "\n",
        "    adjusted_end = ee.Algorithms.If(\n",
        "        ee.Number(end_date.get('day')).eq(1),\n",
        "        end_date.advance(-1, 'day'),\n",
        "        end_date\n",
        "    )\n",
        "    end_date = ee.Date(adjusted_end)\n",
        "\n",
        "    months = ee.List.sequence(0, end_date.difference(start_date, 'month'))\n",
        "\n",
        "    def map_month(m):\n",
        "        m = ee.Number(m)\n",
        "        start_m = start_date.advance(m, 'month')\n",
        "        end_m = start_m.advance(1, 'month')\n",
        "\n",
        "        filtered = collection.filterDate(start_m, end_m)\n",
        "        monthly_image = filtered.mean() \\\n",
        "            .set('system:time_start', start_m.millis())\n",
        "\n",
        "        first_image = ee.Image(filtered.first())\n",
        "        monthly_image = monthly_image.copyProperties(first_image, first_image.propertyNames())\n",
        "\n",
        "        return monthly_image\n",
        "\n",
        "    return ee.ImageCollection.fromImages(months.map(map_month))"
      ],
      "metadata": {
        "colab": {
          "base_uri": "https://localhost:8080/",
          "height": 17
        },
        "id": "LvVbyUA4LqhW",
        "outputId": "b61c749f-1fcf-443c-fd49-805dab0375fd"
      },
      "execution_count": 7,
      "outputs": [
        {
          "output_type": "display_data",
          "data": {
            "text/plain": [
              "<IPython.core.display.HTML object>"
            ],
            "text/html": [
              "\n",
              "            <style>\n",
              "                .geemap-dark {\n",
              "                    --jp-widgets-color: white;\n",
              "                    --jp-widgets-label-color: white;\n",
              "                    --jp-ui-font-color1: white;\n",
              "                    --jp-layout-color2: #454545;\n",
              "                    background-color: #383838;\n",
              "                }\n",
              "\n",
              "                .geemap-dark .jupyter-button {\n",
              "                    --jp-layout-color3: #383838;\n",
              "                }\n",
              "\n",
              "                .geemap-colab {\n",
              "                    background-color: var(--colab-primary-surface-color, white);\n",
              "                }\n",
              "\n",
              "                .geemap-colab .jupyter-button {\n",
              "                    --jp-layout-color3: var(--colab-primary-surface-color, white);\n",
              "                }\n",
              "            </style>\n",
              "            "
            ]
          },
          "metadata": {}
        }
      ]
    },
    {
      "cell_type": "code",
      "source": [
        "country = ee.FeatureCollection('USDOS/LSIB_SIMPLE/2017') \\\n",
        "    .filter(ee.Filter.eq('country_na', country_name))\n",
        "roi=country.geometry()"
      ],
      "metadata": {
        "id": "LtQLMLvxUKR1",
        "outputId": "915900ff-822f-4999-cc14-36df11785116",
        "colab": {
          "base_uri": "https://localhost:8080/",
          "height": 17
        }
      },
      "execution_count": 8,
      "outputs": [
        {
          "output_type": "display_data",
          "data": {
            "text/plain": [
              "<IPython.core.display.HTML object>"
            ],
            "text/html": [
              "\n",
              "            <style>\n",
              "                .geemap-dark {\n",
              "                    --jp-widgets-color: white;\n",
              "                    --jp-widgets-label-color: white;\n",
              "                    --jp-ui-font-color1: white;\n",
              "                    --jp-layout-color2: #454545;\n",
              "                    background-color: #383838;\n",
              "                }\n",
              "\n",
              "                .geemap-dark .jupyter-button {\n",
              "                    --jp-layout-color3: #383838;\n",
              "                }\n",
              "\n",
              "                .geemap-colab {\n",
              "                    background-color: var(--colab-primary-surface-color, white);\n",
              "                }\n",
              "\n",
              "                .geemap-colab .jupyter-button {\n",
              "                    --jp-layout-color3: var(--colab-primary-surface-color, white);\n",
              "                }\n",
              "            </style>\n",
              "            "
            ]
          },
          "metadata": {}
        }
      ]
    },
    {
      "cell_type": "code",
      "source": [
        "grace_55km = (\n",
        "    ee.ImageCollection(\"NASA/GRACE/MASS_GRIDS_V04/MASCON_CRI\")\n",
        "    .select('lwe_thickness')\n",
        "    .filterDate(time_start, time_end)\n",
        "    .map(lambda img: img.toInt()\n",
        "         .copyProperties(img, img.propertyNames())\n",
        "         .set('date', img.date().format('YYYY-MM')))\n",
        ")"
      ],
      "metadata": {
        "id": "67CUfTEDL0Ww",
        "colab": {
          "base_uri": "https://localhost:8080/",
          "height": 17
        },
        "outputId": "32daf6f4-83cf-4f76-8165-860c6f549e7d"
      },
      "execution_count": 9,
      "outputs": [
        {
          "output_type": "display_data",
          "data": {
            "text/plain": [
              "<IPython.core.display.HTML object>"
            ],
            "text/html": [
              "\n",
              "            <style>\n",
              "                .geemap-dark {\n",
              "                    --jp-widgets-color: white;\n",
              "                    --jp-widgets-label-color: white;\n",
              "                    --jp-ui-font-color1: white;\n",
              "                    --jp-layout-color2: #454545;\n",
              "                    background-color: #383838;\n",
              "                }\n",
              "\n",
              "                .geemap-dark .jupyter-button {\n",
              "                    --jp-layout-color3: #383838;\n",
              "                }\n",
              "\n",
              "                .geemap-colab {\n",
              "                    background-color: var(--colab-primary-surface-color, white);\n",
              "                }\n",
              "\n",
              "                .geemap-colab .jupyter-button {\n",
              "                    --jp-layout-color3: var(--colab-primary-surface-color, white);\n",
              "                }\n",
              "            </style>\n",
              "            "
            ]
          },
          "metadata": {}
        }
      ]
    },
    {
      "cell_type": "code",
      "source": [
        "precipitation = (\n",
        "    ee.ImageCollection(\"NASA/GPM_L3/IMERG_MONTHLY_V06\")\n",
        "    .select(\"precipitation\")\n",
        "    .filterDate(time_start, time_end)\n",
        "    .map(lambda img: img.toInt()\n",
        "         .copyProperties(img, img.propertyNames())\n",
        "         .set('date', img.date().format('YYYY-MM')))\n",
        ")\n",
        "\n",
        "precipitation_monthly = convert_to_monthly_sum(precipitation, time_start, time_end)"
      ],
      "metadata": {
        "id": "oeWDj0UiMzBO",
        "colab": {
          "base_uri": "https://localhost:8080/",
          "height": 17
        },
        "outputId": "fa2dd2f0-4297-44bb-e148-f58993fe6108"
      },
      "execution_count": 10,
      "outputs": [
        {
          "output_type": "display_data",
          "data": {
            "text/plain": [
              "<IPython.core.display.HTML object>"
            ],
            "text/html": [
              "\n",
              "            <style>\n",
              "                .geemap-dark {\n",
              "                    --jp-widgets-color: white;\n",
              "                    --jp-widgets-label-color: white;\n",
              "                    --jp-ui-font-color1: white;\n",
              "                    --jp-layout-color2: #454545;\n",
              "                    background-color: #383838;\n",
              "                }\n",
              "\n",
              "                .geemap-dark .jupyter-button {\n",
              "                    --jp-layout-color3: #383838;\n",
              "                }\n",
              "\n",
              "                .geemap-colab {\n",
              "                    background-color: var(--colab-primary-surface-color, white);\n",
              "                }\n",
              "\n",
              "                .geemap-colab .jupyter-button {\n",
              "                    --jp-layout-color3: var(--colab-primary-surface-color, white);\n",
              "                }\n",
              "            </style>\n",
              "            "
            ]
          },
          "metadata": {}
        }
      ]
    },
    {
      "cell_type": "code",
      "source": [
        "air_temperature = (\n",
        "    ee.ImageCollection(\"ECMWF/ERA5_LAND/MONTHLY_AGGR\")\n",
        "    .select(\"temperature_2m\")\n",
        "    .filterDate(time_start, time_end)\n",
        "    .map(lambda img: img.toInt()\n",
        "         .copyProperties(img, img.propertyNames())\n",
        "         .set('date', img.date().format('YYYY-MM')))\n",
        ")\n",
        "\n",
        "air_temperature_monthly = convert_to_monthly_average(air_temperature, time_start, time_end)"
      ],
      "metadata": {
        "id": "6fnZqydjNo_z",
        "colab": {
          "base_uri": "https://localhost:8080/",
          "height": 17
        },
        "outputId": "70647d8e-6f22-4e9d-938f-eaf73de90bb7"
      },
      "execution_count": 11,
      "outputs": [
        {
          "output_type": "display_data",
          "data": {
            "text/plain": [
              "<IPython.core.display.HTML object>"
            ],
            "text/html": [
              "\n",
              "            <style>\n",
              "                .geemap-dark {\n",
              "                    --jp-widgets-color: white;\n",
              "                    --jp-widgets-label-color: white;\n",
              "                    --jp-ui-font-color1: white;\n",
              "                    --jp-layout-color2: #454545;\n",
              "                    background-color: #383838;\n",
              "                }\n",
              "\n",
              "                .geemap-dark .jupyter-button {\n",
              "                    --jp-layout-color3: #383838;\n",
              "                }\n",
              "\n",
              "                .geemap-colab {\n",
              "                    background-color: var(--colab-primary-surface-color, white);\n",
              "                }\n",
              "\n",
              "                .geemap-colab .jupyter-button {\n",
              "                    --jp-layout-color3: var(--colab-primary-surface-color, white);\n",
              "                }\n",
              "            </style>\n",
              "            "
            ]
          },
          "metadata": {}
        }
      ]
    },
    {
      "cell_type": "code",
      "source": [
        "land_temperature_monthly = (\n",
        "    ee.ImageCollection(\"Oxford/MAP/LST_Day_5km_Monthly\")\n",
        "    .select('Mean')\n",
        "    .filterDate(time_start, time_end)\n",
        "    .map(lambda img: img.toInt()\n",
        "         .copyProperties(img, img.propertyNames())\n",
        "         .set('date', img.date().format('YYYY-MM')))\n",
        ")"
      ],
      "metadata": {
        "id": "GPPBw2O6OBl0",
        "colab": {
          "base_uri": "https://localhost:8080/",
          "height": 17
        },
        "outputId": "7fc5b1bc-a189-4224-9ed5-4b8b94edd00a"
      },
      "execution_count": 12,
      "outputs": [
        {
          "output_type": "display_data",
          "data": {
            "text/plain": [
              "<IPython.core.display.HTML object>"
            ],
            "text/html": [
              "\n",
              "            <style>\n",
              "                .geemap-dark {\n",
              "                    --jp-widgets-color: white;\n",
              "                    --jp-widgets-label-color: white;\n",
              "                    --jp-ui-font-color1: white;\n",
              "                    --jp-layout-color2: #454545;\n",
              "                    background-color: #383838;\n",
              "                }\n",
              "\n",
              "                .geemap-dark .jupyter-button {\n",
              "                    --jp-layout-color3: #383838;\n",
              "                }\n",
              "\n",
              "                .geemap-colab {\n",
              "                    background-color: var(--colab-primary-surface-color, white);\n",
              "                }\n",
              "\n",
              "                .geemap-colab .jupyter-button {\n",
              "                    --jp-layout-color3: var(--colab-primary-surface-color, white);\n",
              "                }\n",
              "            </style>\n",
              "            "
            ]
          },
          "metadata": {}
        }
      ]
    },
    {
      "cell_type": "code",
      "source": [
        "humidity = (\n",
        "    ee.ImageCollection(\"UCSB-CHG/CHIRTS/DAILY\")\n",
        "    .select(\"relative_humidity\")\n",
        "    .filterDate(time_start, time_end)\n",
        "    .map(lambda img: img.toInt()\n",
        "         .copyProperties(img, img.propertyNames())\n",
        "         .set('date', img.date().format('YYYY-MM')))\n",
        ")\n",
        "\n",
        "humidity_monthly = convert_to_monthly_average(humidity, time_start, time_end)"
      ],
      "metadata": {
        "id": "Aizq0cGeOh8T",
        "colab": {
          "base_uri": "https://localhost:8080/",
          "height": 17
        },
        "outputId": "63a1a528-0dc8-4446-b2c7-5cc2ac772be3"
      },
      "execution_count": 13,
      "outputs": [
        {
          "output_type": "display_data",
          "data": {
            "text/plain": [
              "<IPython.core.display.HTML object>"
            ],
            "text/html": [
              "\n",
              "            <style>\n",
              "                .geemap-dark {\n",
              "                    --jp-widgets-color: white;\n",
              "                    --jp-widgets-label-color: white;\n",
              "                    --jp-ui-font-color1: white;\n",
              "                    --jp-layout-color2: #454545;\n",
              "                    background-color: #383838;\n",
              "                }\n",
              "\n",
              "                .geemap-dark .jupyter-button {\n",
              "                    --jp-layout-color3: #383838;\n",
              "                }\n",
              "\n",
              "                .geemap-colab {\n",
              "                    background-color: var(--colab-primary-surface-color, white);\n",
              "                }\n",
              "\n",
              "                .geemap-colab .jupyter-button {\n",
              "                    --jp-layout-color3: var(--colab-primary-surface-color, white);\n",
              "                }\n",
              "            </style>\n",
              "            "
            ]
          },
          "metadata": {}
        }
      ]
    },
    {
      "cell_type": "code",
      "source": [
        "evaporation = (\n",
        "    ee.ImageCollection(\"ECMWF/ERA5_LAND/DAILY_AGGR\")\n",
        "    .select('potential_evaporation_sum')\n",
        "    .filterDate(time_start, time_end)\n",
        "    .map(lambda img: img.toInt()\n",
        "         .copyProperties(img, img.propertyNames())\n",
        "         .set('date', img.date().format('YYYY-MM')))\n",
        ")\n",
        "\n",
        "evaporation_monthly = convert_to_monthly_average(evaporation, time_start, time_end)"
      ],
      "metadata": {
        "id": "_6biNK4BO2ir",
        "colab": {
          "base_uri": "https://localhost:8080/",
          "height": 17
        },
        "outputId": "ec865bfa-996e-4ead-8dc2-84c8292378ad"
      },
      "execution_count": 14,
      "outputs": [
        {
          "output_type": "display_data",
          "data": {
            "text/plain": [
              "<IPython.core.display.HTML object>"
            ],
            "text/html": [
              "\n",
              "            <style>\n",
              "                .geemap-dark {\n",
              "                    --jp-widgets-color: white;\n",
              "                    --jp-widgets-label-color: white;\n",
              "                    --jp-ui-font-color1: white;\n",
              "                    --jp-layout-color2: #454545;\n",
              "                    background-color: #383838;\n",
              "                }\n",
              "\n",
              "                .geemap-dark .jupyter-button {\n",
              "                    --jp-layout-color3: #383838;\n",
              "                }\n",
              "\n",
              "                .geemap-colab {\n",
              "                    background-color: var(--colab-primary-surface-color, white);\n",
              "                }\n",
              "\n",
              "                .geemap-colab .jupyter-button {\n",
              "                    --jp-layout-color3: var(--colab-primary-surface-color, white);\n",
              "                }\n",
              "            </style>\n",
              "            "
            ]
          },
          "metadata": {}
        }
      ]
    },
    {
      "cell_type": "code",
      "source": [
        "runoff = (\n",
        "    ee.ImageCollection(\"ECMWF/ERA5_LAND/DAILY_AGGR\")\n",
        "    .select('runoff_sum')\n",
        "    .filterDate(time_start, time_end)\n",
        "    .map(lambda img: img.toInt()\n",
        "         .copyProperties(img, img.propertyNames())\n",
        "         .set('date', img.date().format('YYYY-MM')))\n",
        ")\n",
        "\n",
        "runoff_monthly = convert_to_monthly_sum(runoff, time_start, time_end)"
      ],
      "metadata": {
        "id": "Ex0oYMAKPIox",
        "colab": {
          "base_uri": "https://localhost:8080/",
          "height": 17
        },
        "outputId": "873a73ef-0142-4041-a2e0-da87db1024a7"
      },
      "execution_count": 15,
      "outputs": [
        {
          "output_type": "display_data",
          "data": {
            "text/plain": [
              "<IPython.core.display.HTML object>"
            ],
            "text/html": [
              "\n",
              "            <style>\n",
              "                .geemap-dark {\n",
              "                    --jp-widgets-color: white;\n",
              "                    --jp-widgets-label-color: white;\n",
              "                    --jp-ui-font-color1: white;\n",
              "                    --jp-layout-color2: #454545;\n",
              "                    background-color: #383838;\n",
              "                }\n",
              "\n",
              "                .geemap-dark .jupyter-button {\n",
              "                    --jp-layout-color3: #383838;\n",
              "                }\n",
              "\n",
              "                .geemap-colab {\n",
              "                    background-color: var(--colab-primary-surface-color, white);\n",
              "                }\n",
              "\n",
              "                .geemap-colab .jupyter-button {\n",
              "                    --jp-layout-color3: var(--colab-primary-surface-color, white);\n",
              "                }\n",
              "            </style>\n",
              "            "
            ]
          },
          "metadata": {}
        }
      ]
    },
    {
      "cell_type": "code",
      "source": [
        "ndvi = (\n",
        "    ee.ImageCollection(\"MODIS/061/MOD13A2\")\n",
        "    .select('NDVI')\n",
        "    .filterDate(time_start, time_end)\n",
        "    .map(lambda img: img.toInt()\n",
        "         .copyProperties(img, img.propertyNames())\n",
        "         .set('date', img.date().format('YYYY-MM')))\n",
        ")\n",
        "\n",
        "ndvi_monthly = convert_to_monthly_average(ndvi, time_start, time_end)"
      ],
      "metadata": {
        "id": "ijURdjBcPc4a",
        "colab": {
          "base_uri": "https://localhost:8080/",
          "height": 17
        },
        "outputId": "9233a6f7-048e-433a-e8f4-43371aea96d0"
      },
      "execution_count": 16,
      "outputs": [
        {
          "output_type": "display_data",
          "data": {
            "text/plain": [
              "<IPython.core.display.HTML object>"
            ],
            "text/html": [
              "\n",
              "            <style>\n",
              "                .geemap-dark {\n",
              "                    --jp-widgets-color: white;\n",
              "                    --jp-widgets-label-color: white;\n",
              "                    --jp-ui-font-color1: white;\n",
              "                    --jp-layout-color2: #454545;\n",
              "                    background-color: #383838;\n",
              "                }\n",
              "\n",
              "                .geemap-dark .jupyter-button {\n",
              "                    --jp-layout-color3: #383838;\n",
              "                }\n",
              "\n",
              "                .geemap-colab {\n",
              "                    background-color: var(--colab-primary-surface-color, white);\n",
              "                }\n",
              "\n",
              "                .geemap-colab .jupyter-button {\n",
              "                    --jp-layout-color3: var(--colab-primary-surface-color, white);\n",
              "                }\n",
              "            </style>\n",
              "            "
            ]
          },
          "metadata": {}
        }
      ]
    },
    {
      "cell_type": "code",
      "source": [
        "def join_collections(primary, secondary, band_name):\n",
        "    join = ee.Join.inner()\n",
        "    filter = ee.Filter.equals(leftField='date', rightField='date')\n",
        "    joined = join.apply(primary, secondary, filter)\n",
        "\n",
        "    return ee.ImageCollection(joined.map(lambda feature:\n",
        "        ee.Image(feature.get('primary')).addBands(\n",
        "            ee.Image(feature.get('secondary')).rename(band_name)\n",
        "        )\n",
        "    ))\n",
        "\n",
        "\n",
        "joined1 = join_collections(grace_55km, precipitation_monthly, 'Precipitation')\n",
        "joined2 = join_collections(joined1, air_temperature_monthly, 'Air temperature')\n",
        "joined3 = join_collections(joined2, land_temperature_monthly, 'Land Surface temperature')\n",
        "joined4 = join_collections(joined3, humidity_monthly, 'Humidity')\n",
        "joined5 = join_collections(joined4, evaporation_monthly, 'Evaporation')\n",
        "joined6 = join_collections(joined5, runoff_monthly, 'Runoff')\n",
        "data_collection = join_collections(joined6, ndvi_monthly, 'NDVI')"
      ],
      "metadata": {
        "id": "RcZBV5EWPuAq",
        "colab": {
          "base_uri": "https://localhost:8080/",
          "height": 17
        },
        "outputId": "1096299b-b3c1-479e-d526-e39669c98f51"
      },
      "execution_count": 17,
      "outputs": [
        {
          "output_type": "display_data",
          "data": {
            "text/plain": [
              "<IPython.core.display.HTML object>"
            ],
            "text/html": [
              "\n",
              "            <style>\n",
              "                .geemap-dark {\n",
              "                    --jp-widgets-color: white;\n",
              "                    --jp-widgets-label-color: white;\n",
              "                    --jp-ui-font-color1: white;\n",
              "                    --jp-layout-color2: #454545;\n",
              "                    background-color: #383838;\n",
              "                }\n",
              "\n",
              "                .geemap-dark .jupyter-button {\n",
              "                    --jp-layout-color3: #383838;\n",
              "                }\n",
              "\n",
              "                .geemap-colab {\n",
              "                    background-color: var(--colab-primary-surface-color, white);\n",
              "                }\n",
              "\n",
              "                .geemap-colab .jupyter-button {\n",
              "                    --jp-layout-color3: var(--colab-primary-surface-color, white);\n",
              "                }\n",
              "            </style>\n",
              "            "
            ]
          },
          "metadata": {}
        }
      ]
    },
    {
      "cell_type": "code",
      "source": [
        "def classify_grace10km(img):\n",
        "    training = img.stratifiedSample(\n",
        "        numPoints=100,\n",
        "        classBand='lwe_thickness',\n",
        "        region=roi,\n",
        "        scale=10000\n",
        "    )\n",
        "\n",
        "    model = ee.Classifier.smileRandomForest(80).train(\n",
        "        features=training,\n",
        "        classProperty='lwe_thickness',\n",
        "        inputProperties=img.bandNames()\n",
        "    ).setOutputMode('REGRESSION')\n",
        "\n",
        "    bands = img.bandNames().remove('lwe_thickness')\n",
        "\n",
        "    result = img.select(bands).classify(model).rename('grace10km').toFloat()\n",
        "\n",
        "    return result.copyProperties(img, img.propertyNames())\n",
        "\n",
        "grace10km = data_collection.map(classify_grace10km)"
      ],
      "metadata": {
        "id": "a85ZVujEQF0m",
        "colab": {
          "base_uri": "https://localhost:8080/",
          "height": 17
        },
        "outputId": "5e379086-2154-49d7-ac00-e7b11c6757e5"
      },
      "execution_count": 18,
      "outputs": [
        {
          "output_type": "display_data",
          "data": {
            "text/plain": [
              "<IPython.core.display.HTML object>"
            ],
            "text/html": [
              "\n",
              "            <style>\n",
              "                .geemap-dark {\n",
              "                    --jp-widgets-color: white;\n",
              "                    --jp-widgets-label-color: white;\n",
              "                    --jp-ui-font-color1: white;\n",
              "                    --jp-layout-color2: #454545;\n",
              "                    background-color: #383838;\n",
              "                }\n",
              "\n",
              "                .geemap-dark .jupyter-button {\n",
              "                    --jp-layout-color3: #383838;\n",
              "                }\n",
              "\n",
              "                .geemap-colab {\n",
              "                    background-color: var(--colab-primary-surface-color, white);\n",
              "                }\n",
              "\n",
              "                .geemap-colab .jupyter-button {\n",
              "                    --jp-layout-color3: var(--colab-primary-surface-color, white);\n",
              "                }\n",
              "            </style>\n",
              "            "
            ]
          },
          "metadata": {}
        }
      ]
    },
    {
      "cell_type": "code",
      "source": [
        "# Create a new map with a satellite basemap\n",
        "Map = geemap.Map(basemap=\"SATELLITE\")\n",
        "\n",
        "# -------------------------------\n",
        "# Loop over the 55 km GRACE collection\n",
        "# -------------------------------\n",
        "count_55km = grace_55km.size().getInfo()\n",
        "image_list_55km = grace_55km.toList(count_55km)\n",
        "\n",
        "for i in range(count_55km):\n",
        "    img = ee.Image(image_list_55km.get(i)).clip(roi)\n",
        "    date = img.get('date').getInfo()\n",
        "\n",
        "    stats = img.reduceRegion(\n",
        "        reducer=ee.Reducer.minMax(),\n",
        "        geometry=roi,\n",
        "        bestEffort=True\n",
        "    ).getInfo()\n",
        "\n",
        "    vis_55km = {\n",
        "        'min': stats['lwe_thickness_min'],\n",
        "        'max': stats['lwe_thickness_max'],\n",
        "        # 5‐color diverging palette: dark blue → light blue → white → light red → dark red\n",
        "        'palette': [\n",
        "            '#2166ac',  # dark blue (strong positive change)\n",
        "            '#67a9cf',  # light blue (moderate positive)\n",
        "            '#f7f7f7',  # white     (no change)\n",
        "            '#ef8a62',  # light red (moderate negative)\n",
        "            '#b2182b'   # dark red  (strong negative change)\n",
        "        ]\n",
        "    }\n",
        "\n",
        "    Map.addLayer(img, vis_55km, f\"Grace 55km {date}\")\n",
        "\n",
        "# -------------------------------\n",
        "# Loop over the 10 km GRACE collection\n",
        "# -------------------------------\n",
        "count_10km = grace10km.size().getInfo()\n",
        "image_list_10km = grace10km.toList(count_10km)\n",
        "\n",
        "for i in range(count_10km):\n",
        "    img = ee.Image(image_list_10km.get(i)).clip(roi)\n",
        "    date = img.get('date').getInfo()\n",
        "\n",
        "    stats = img.reduceRegion(\n",
        "        reducer=ee.Reducer.minMax(),\n",
        "        geometry=roi,\n",
        "        bestEffort=True\n",
        "    ).getInfo()\n",
        "\n",
        "    vis_10km = {\n",
        "        'min': stats['grace10km_min'],\n",
        "        'max': stats['grace10km_max'],\n",
        "        # Same 5‐color diverging palette for consistency\n",
        "        'palette': [\n",
        "            '#2166ac',  # dark blue (strong positive change)\n",
        "            '#67a9cf',  # light blue (moderate positive)\n",
        "            '#f7f7f7',  # white     (no change)\n",
        "            '#ef8a62',  # light red (moderate negative)\n",
        "            '#b2182b'   # dark red  (strong negative change)\n",
        "        ]\n",
        "    }\n",
        "\n",
        "    Map.addLayer(img, vis_10km, f\"Grace 10km {date}\")\n",
        "\n",
        "# Center the map on the region of interest at zoom level 5\n",
        "Map.centerObject(roi, 5)\n",
        "\n",
        "# Display the map\n",
        "Map\n"
      ],
      "metadata": {
        "id": "wNTQVN2hLlps",
        "outputId": "140f9973-87f4-4e23-c786-57d8a818c257",
        "colab": {
          "base_uri": "https://localhost:8080/",
          "height": 17
        }
      },
      "execution_count": null,
      "outputs": [
        {
          "output_type": "display_data",
          "data": {
            "text/plain": [
              "<IPython.core.display.HTML object>"
            ],
            "text/html": [
              "\n",
              "            <style>\n",
              "                .geemap-dark {\n",
              "                    --jp-widgets-color: white;\n",
              "                    --jp-widgets-label-color: white;\n",
              "                    --jp-ui-font-color1: white;\n",
              "                    --jp-layout-color2: #454545;\n",
              "                    background-color: #383838;\n",
              "                }\n",
              "\n",
              "                .geemap-dark .jupyter-button {\n",
              "                    --jp-layout-color3: #383838;\n",
              "                }\n",
              "\n",
              "                .geemap-colab {\n",
              "                    background-color: var(--colab-primary-surface-color, white);\n",
              "                }\n",
              "\n",
              "                .geemap-colab .jupyter-button {\n",
              "                    --jp-layout-color3: var(--colab-primary-surface-color, white);\n",
              "                }\n",
              "            </style>\n",
              "            "
            ]
          },
          "metadata": {}
        }
      ]
    },
    {
      "cell_type": "code",
      "source": [],
      "metadata": {
        "id": "vmB5U8DfCCBa"
      },
      "execution_count": null,
      "outputs": []
    }
  ]
}